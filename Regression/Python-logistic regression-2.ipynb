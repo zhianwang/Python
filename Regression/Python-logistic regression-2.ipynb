{
 "cells": [
  {
   "cell_type": "code",
   "execution_count": 1,
   "metadata": {
    "collapsed": false
   },
   "outputs": [
    {
     "data": {
      "text/html": [
       "<div>\n",
       "<table border=\"1\" class=\"dataframe\">\n",
       "  <thead>\n",
       "    <tr style=\"text-align: right;\">\n",
       "      <th></th>\n",
       "      <th>secondha</th>\n",
       "      <th>angertreat</th>\n",
       "      <th>traitanxiety</th>\n",
       "    </tr>\n",
       "  </thead>\n",
       "  <tbody>\n",
       "    <tr>\n",
       "      <th>0</th>\n",
       "      <td>1</td>\n",
       "      <td>1</td>\n",
       "      <td>70</td>\n",
       "    </tr>\n",
       "    <tr>\n",
       "      <th>1</th>\n",
       "      <td>1</td>\n",
       "      <td>1</td>\n",
       "      <td>80</td>\n",
       "    </tr>\n",
       "    <tr>\n",
       "      <th>2</th>\n",
       "      <td>1</td>\n",
       "      <td>1</td>\n",
       "      <td>50</td>\n",
       "    </tr>\n",
       "    <tr>\n",
       "      <th>3</th>\n",
       "      <td>1</td>\n",
       "      <td>0</td>\n",
       "      <td>60</td>\n",
       "    </tr>\n",
       "    <tr>\n",
       "      <th>4</th>\n",
       "      <td>1</td>\n",
       "      <td>0</td>\n",
       "      <td>40</td>\n",
       "    </tr>\n",
       "  </tbody>\n",
       "</table>\n",
       "</div>"
      ],
      "text/plain": [
       "   secondha  angertreat  traitanxiety\n",
       "0         1           1            70\n",
       "1         1           1            80\n",
       "2         1           1            50\n",
       "3         1           0            60\n",
       "4         1           0            40"
      ]
     },
     "execution_count": 1,
     "metadata": {},
     "output_type": "execute_result"
    }
   ],
   "source": [
    "import pandas as pd\n",
    "myDF = pd.read_csv('logistic-heartattack.csv')\n",
    "myDF.head()"
   ]
  },
  {
   "cell_type": "code",
   "execution_count": 2,
   "metadata": {
    "collapsed": false
   },
   "outputs": [
    {
     "name": "stdout",
     "output_type": "stream",
     "text": [
      "Optimization terminated successfully.\n",
      "         Current function value: 0.490013\n",
      "         Iterations 6\n"
     ]
    }
   ],
   "source": [
    "# Install statsmodels using conda install statsmodels\n",
    "from statsmodels.formula.api import logit \n",
    "logitModel = logit(\"secondha~traitanxiety\", data = myDF)\n",
    "myFit = logitModel.fit()"
   ]
  },
  {
   "cell_type": "code",
   "execution_count": 3,
   "metadata": {
    "collapsed": false
   },
   "outputs": [
    {
     "data": {
      "text/html": [
       "<table class=\"simpletable\">\n",
       "<caption>Logit Regression Results</caption>\n",
       "<tr>\n",
       "  <th>Dep. Variable:</th>     <td>secondha</td>     <th>  No. Observations:  </th>  <td>    20</td> \n",
       "</tr>\n",
       "<tr>\n",
       "  <th>Model:</th>               <td>Logit</td>      <th>  Df Residuals:      </th>  <td>    18</td> \n",
       "</tr>\n",
       "<tr>\n",
       "  <th>Method:</th>               <td>MLE</td>       <th>  Df Model:          </th>  <td>     1</td> \n",
       "</tr>\n",
       "<tr>\n",
       "  <th>Date:</th>          <td>Mon, 01 May 2017</td> <th>  Pseudo R-squ.:     </th>  <td>0.2931</td> \n",
       "</tr>\n",
       "<tr>\n",
       "  <th>Time:</th>              <td>13:10:22</td>     <th>  Log-Likelihood:    </th> <td> -9.8003</td>\n",
       "</tr>\n",
       "<tr>\n",
       "  <th>converged:</th>           <td>True</td>       <th>  LL-Null:           </th> <td> -13.863</td>\n",
       "</tr>\n",
       "<tr>\n",
       "  <th> </th>                      <td> </td>        <th>  LLR p-value:       </th> <td>0.004365</td>\n",
       "</tr>\n",
       "</table>\n",
       "<table class=\"simpletable\">\n",
       "<tr>\n",
       "        <td></td>          <th>coef</th>     <th>std err</th>      <th>z</th>      <th>P>|z|</th> <th>[95.0% Conf. Int.]</th> \n",
       "</tr>\n",
       "<tr>\n",
       "  <th>Intercept</th>    <td>   -7.0925</td> <td>    3.171</td> <td>   -2.237</td> <td> 0.025</td> <td>  -13.308    -0.877</td>\n",
       "</tr>\n",
       "<tr>\n",
       "  <th>traitanxiety</th> <td>    0.1246</td> <td>    0.055</td> <td>    2.254</td> <td> 0.024</td> <td>    0.016     0.233</td>\n",
       "</tr>\n",
       "</table>"
      ],
      "text/plain": [
       "<class 'statsmodels.iolib.summary.Summary'>\n",
       "\"\"\"\n",
       "                           Logit Regression Results                           \n",
       "==============================================================================\n",
       "Dep. Variable:               secondha   No. Observations:                   20\n",
       "Model:                          Logit   Df Residuals:                       18\n",
       "Method:                           MLE   Df Model:                            1\n",
       "Date:                Mon, 01 May 2017   Pseudo R-squ.:                  0.2931\n",
       "Time:                        13:10:22   Log-Likelihood:                -9.8003\n",
       "converged:                       True   LL-Null:                       -13.863\n",
       "                                        LLR p-value:                  0.004365\n",
       "================================================================================\n",
       "                   coef    std err          z      P>|z|      [95.0% Conf. Int.]\n",
       "--------------------------------------------------------------------------------\n",
       "Intercept       -7.0925      3.171     -2.237      0.025       -13.308    -0.877\n",
       "traitanxiety     0.1246      0.055      2.254      0.024         0.016     0.233\n",
       "================================================================================\n",
       "\"\"\""
      ]
     },
     "execution_count": 3,
     "metadata": {},
     "output_type": "execute_result"
    }
   ],
   "source": [
    "myFit.summary()"
   ]
  },
  {
   "cell_type": "code",
   "execution_count": 4,
   "metadata": {
    "collapsed": false
   },
   "outputs": [
    {
     "data": {
      "text/html": [
       "<div>\n",
       "<table border=\"1\" class=\"dataframe\">\n",
       "  <thead>\n",
       "    <tr style=\"text-align: right;\">\n",
       "      <th></th>\n",
       "      <th>secondha</th>\n",
       "      <th>angertreat</th>\n",
       "      <th>traitanxiety</th>\n",
       "      <th>PredX</th>\n",
       "    </tr>\n",
       "  </thead>\n",
       "  <tbody>\n",
       "    <tr>\n",
       "      <th>0</th>\n",
       "      <td>1</td>\n",
       "      <td>1</td>\n",
       "      <td>70</td>\n",
       "      <td>1.631932</td>\n",
       "    </tr>\n",
       "    <tr>\n",
       "      <th>1</th>\n",
       "      <td>1</td>\n",
       "      <td>1</td>\n",
       "      <td>80</td>\n",
       "      <td>2.878277</td>\n",
       "    </tr>\n",
       "    <tr>\n",
       "      <th>2</th>\n",
       "      <td>1</td>\n",
       "      <td>1</td>\n",
       "      <td>50</td>\n",
       "      <td>-0.860757</td>\n",
       "    </tr>\n",
       "    <tr>\n",
       "      <th>3</th>\n",
       "      <td>1</td>\n",
       "      <td>0</td>\n",
       "      <td>60</td>\n",
       "      <td>0.385587</td>\n",
       "    </tr>\n",
       "    <tr>\n",
       "      <th>4</th>\n",
       "      <td>1</td>\n",
       "      <td>0</td>\n",
       "      <td>40</td>\n",
       "      <td>-2.107102</td>\n",
       "    </tr>\n",
       "  </tbody>\n",
       "</table>\n",
       "</div>"
      ],
      "text/plain": [
       "   secondha  angertreat  traitanxiety     PredX\n",
       "0         1           1            70  1.631932\n",
       "1         1           1            80  2.878277\n",
       "2         1           1            50 -0.860757\n",
       "3         1           0            60  0.385587\n",
       "4         1           0            40 -2.107102"
      ]
     },
     "execution_count": 4,
     "metadata": {},
     "output_type": "execute_result"
    }
   ],
   "source": [
    "myDF[\"PredX\"]=myFit.fittedvalues\n",
    "myDF.head()"
   ]
  },
  {
   "cell_type": "code",
   "execution_count": 5,
   "metadata": {
    "collapsed": false
   },
   "outputs": [
    {
     "data": {
      "text/html": [
       "<div>\n",
       "<table border=\"1\" class=\"dataframe\">\n",
       "  <thead>\n",
       "    <tr style=\"text-align: right;\">\n",
       "      <th></th>\n",
       "      <th>secondha</th>\n",
       "      <th>angertreat</th>\n",
       "      <th>traitanxiety</th>\n",
       "      <th>PredX</th>\n",
       "      <th>PredP</th>\n",
       "    </tr>\n",
       "  </thead>\n",
       "  <tbody>\n",
       "    <tr>\n",
       "      <th>0</th>\n",
       "      <td>1</td>\n",
       "      <td>1</td>\n",
       "      <td>70</td>\n",
       "      <td>1.631932</td>\n",
       "      <td>0.836434</td>\n",
       "    </tr>\n",
       "    <tr>\n",
       "      <th>1</th>\n",
       "      <td>1</td>\n",
       "      <td>1</td>\n",
       "      <td>80</td>\n",
       "      <td>2.878277</td>\n",
       "      <td>0.946762</td>\n",
       "    </tr>\n",
       "    <tr>\n",
       "      <th>2</th>\n",
       "      <td>1</td>\n",
       "      <td>1</td>\n",
       "      <td>50</td>\n",
       "      <td>-0.860757</td>\n",
       "      <td>0.297181</td>\n",
       "    </tr>\n",
       "    <tr>\n",
       "      <th>3</th>\n",
       "      <td>1</td>\n",
       "      <td>0</td>\n",
       "      <td>60</td>\n",
       "      <td>0.385587</td>\n",
       "      <td>0.595220</td>\n",
       "    </tr>\n",
       "    <tr>\n",
       "      <th>4</th>\n",
       "      <td>1</td>\n",
       "      <td>0</td>\n",
       "      <td>40</td>\n",
       "      <td>-2.107102</td>\n",
       "      <td>0.108408</td>\n",
       "    </tr>\n",
       "  </tbody>\n",
       "</table>\n",
       "</div>"
      ],
      "text/plain": [
       "   secondha  angertreat  traitanxiety     PredX     PredP\n",
       "0         1           1            70  1.631932  0.836434\n",
       "1         1           1            80  2.878277  0.946762\n",
       "2         1           1            50 -0.860757  0.297181\n",
       "3         1           0            60  0.385587  0.595220\n",
       "4         1           0            40 -2.107102  0.108408"
      ]
     },
     "execution_count": 5,
     "metadata": {},
     "output_type": "execute_result"
    }
   ],
   "source": [
    "import numpy as np\n",
    "myDF[\"PredP\"]=np.exp(myDF[\"PredX\"]) / (1+np.exp(myDF[\"PredX\"])) # did not use math.exp because it does not understand the series type\n",
    "myDF.head()"
   ]
  },
  {
   "cell_type": "code",
   "execution_count": 6,
   "metadata": {
    "collapsed": false
   },
   "outputs": [
    {
     "data": {
      "image/png": "[encoded data removed]",
      "text/plain": [
       "<matplotlib.figure.Figure at 0x1dbd82589b0>"
      ]
     },
     "metadata": {},
     "output_type": "display_data"
    }
   ],
   "source": [
    "import matplotlib.pyplot as plt\n",
    "%matplotlib inline\n",
    "plt.cla()\n",
    "plt.scatter(myDF[\"traitanxiety\"],myDF[\"secondha\"], color=['blue'])\n",
    "plt.scatter(myDF[\"traitanxiety\"],myDF[\"PredP\"], color=['red'])\n",
    "plt.plot(myDF[\"traitanxiety\"],myDF[\"PredP\"])\n",
    "plt.xlabel(\"Trait Anxiety\")\n",
    "plt.ylabel(\"P(Second Heart Attack)\")\n",
    "plt.title(\"Logistic Regression\")\n",
    "plt.show()"
   ]
  },
  {
   "cell_type": "code",
   "execution_count": 7,
   "metadata": {
    "collapsed": false
   },
   "outputs": [],
   "source": [
    "myDF = myDF.sort_values('PredP', ascending=True)"
   ]
  },
  {
   "cell_type": "code",
   "execution_count": 8,
   "metadata": {
    "collapsed": false
   },
   "outputs": [
    {
     "data": {
      "image/png": "[encoded data removed]",
      "text/plain": [
       "<matplotlib.figure.Figure at 0x1dbd82588d0>"
      ]
     },
     "metadata": {},
     "output_type": "display_data"
    }
   ],
   "source": [
    "plt.scatter(myDF[\"traitanxiety\"],myDF[\"secondha\"], color=['blue'])\n",
    "plt.scatter(myDF[\"traitanxiety\"],myDF[\"PredP\"], color=['red'])\n",
    "plt.plot(myDF[\"traitanxiety\"],myDF[\"PredP\"])\n",
    "plt.xlabel(\"Trait Anxiety\")\n",
    "plt.ylabel(\"P(Second Heart Attack)\")\n",
    "plt.title(\"Logistic Regression\")\n",
    "plt.show()"
   ]
  }
 ],
 "metadata": {
  "anaconda-cloud": {},
  "kernelspec": {
   "display_name": "Python [Root]",
   "language": "python",
   "name": "Python [Root]"
  },
  "language_info": {
   "codemirror_mode": {
    "name": "ipython",
    "version": 3
   },
   "file_extension": ".py",
   "mimetype": "text/x-python",
   "name": "python",
   "nbconvert_exporter": "python",
   "pygments_lexer": "ipython3",
   "version": "3.5.2"
  }
 },
 "nbformat": 4,
 "nbformat_minor": 1
}
